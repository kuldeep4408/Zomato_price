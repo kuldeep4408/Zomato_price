{
 "cells": [
  {
   "cell_type": "code",
   "execution_count": 1,
   "id": "cae43aa4",
   "metadata": {},
   "outputs": [],
   "source": [
    "import numpy as np\n",
    "import pandas as pd\n"
   ]
  },
  {
   "cell_type": "code",
   "execution_count": 2,
   "id": "ced77b61",
   "metadata": {},
   "outputs": [],
   "source": [
    "df= pd.read_csv('zomato.csv')"
   ]
  },
  {
   "cell_type": "markdown",
   "id": "3f6621e9",
   "metadata": {},
   "source": [
    "# Asking Question which columns is not usable"
   ]
  },
  
  {
   "cell_type": "code",
   "execution_count": 3,
   "id": "6774e62e",
   "metadata": {},
   "outputs": [],
   "source": [
    "df.drop(columns=['Restaurant ID'],inplace=True)"
   ]
  },
  {
   "cell_type": "code",
   "execution_count": 4,
   "id": "e744d51a",
   "metadata": {},
   "outputs": [
    {
     "data": {
      "text/plain": [
       "Index(['Restaurant Name', 'Country Code', 'City', 'Address', 'Locality',\n",
       "       'Locality Verbose', 'Longitude', 'Latitude', 'Cuisines',\n",
       "       'Average Cost for two', 'Currency', 'Has Table booking',\n",
       "       'Has Online delivery', 'Is delivering now', 'Switch to order menu',\n",
       "       'Price range', 'Aggregate rating', 'Rating color', 'Rating text',\n",
       "       'Votes'],\n",
       "      dtype='object')"
      ]
     },
     "execution_count": 4,
     "metadata": {},
     "output_type": "execute_result"
    }
   ],
   "source": [
    "df.columns"
   ]
  },
  {
   "cell_type": "code",
   "execution_count": 5,
   "id": "ec83c399",
   "metadata": {},
   "outputs": [
    {
     "data": {
      "text/plain": [
       "(9551, 20)"
      ]
     },
     "execution_count": 5,
     "metadata": {},
     "output_type": "execute_result"
    }
   ],
   "source": [
    "df.shape"
   ]
  },
  {
   "cell_type": "code",
   "execution_count": 6,
   "id": "d926971e",
   "metadata": {},
   "outputs": [
    {
     "data": {
      "text/plain": [
       "15"
      ]
     },
     "execution_count": 6,
     "metadata": {},
     "output_type": "execute_result"
    }
   ],
   "source": [
    "df['Country Code'].nunique()"
   ]
  },
  {
   "cell_type": "code",
   "execution_count": 7,
   "id": "b09587ea",
   "metadata": {},
   "outputs": [],
   "source": [
    "##tital countries are 15"
   ]
  },
  {
   "cell_type": "code",
   "execution_count": 8,
   "id": "7c813da6",
   "metadata": {},
   "outputs": [
    {
     "data": {
      "text/plain": [
       "1      8652\n",
       "216     434\n",
       "215      80\n",
       "189      60\n",
       "30       60\n",
       "214      60\n",
       "148      40\n",
       "208      34\n",
       "14       24\n",
       "162      22\n",
       "94       21\n",
       "184      20\n",
       "166      20\n",
       "191      20\n",
       "37        4\n",
       "Name: Country Code, dtype: int64"
      ]
     },
     "execution_count": 8,
     "metadata": {},
     "output_type": "execute_result"
    }
   ],
   "source": [
    "df['Country Code'].value_counts()"
   ]
  },
  {
   "cell_type": "code",
   "execution_count": 9,
   "id": "b6324dc8",
   "metadata": {},
   "outputs": [],
   "source": [
    "mask=df['Country Code']==1"
   ]
  },
  {
   "cell_type": "code",
   "execution_count": 10,
   "id": "6675364f",
   "metadata": {},
   "outputs": [],
   "source": [
    "df=df[mask]"
   ]
  },
  {
   "cell_type": "code",
   "execution_count": 11,
   "id": "4ee4e39b",
   "metadata": {},
   "outputs": [
    {
     "data": {
      "text/plain": [
       "(8652, 20)"
      ]
     },
     "execution_count": 11,
     "metadata": {},
     "output_type": "execute_result"
    }
   ],
   "source": [
    "df.shape"
   ]
  },
  {
   "cell_type": "code",
   "execution_count": 12,
   "id": "c15eb092",
   "metadata": {},
   "outputs": [],
   "source": [
    "## now we we can remove country code and currency because we have only one country in data set"
   ]
  },
  {
   "cell_type": "code",
   "execution_count": 13,
   "id": "f54c6a01",
   "metadata": {},
   "outputs": [],
   "source": [
    "df.drop(columns=['Country Code','Currency'],inplace=True)"
   ]
  },
  {
   "cell_type": "code",
   "execution_count": 14,
   "id": "ec042799",
   "metadata": {},
   "outputs": [
    {
     "data": {
      "text/plain": [
       "(8652, 18)"
      ]
     },
     "execution_count": 14,
     "metadata": {},
     "output_type": "execute_result"
    }
   ],
   "source": [
    "df.shape"
   ]
  },
  {
   "cell_type": "code",
   "execution_count": 15,
   "id": "bfc3a0be",
   "metadata": {},
   "outputs": [
    {
     "data": {
      "text/plain": [
       "43"
      ]
     },
     "execution_count": 15,
     "metadata": {},
     "output_type": "execute_result"
    }
   ],
   "source": [
    "df['City'].nunique()"
   ]
  },
  {
   "cell_type": "code",
   "execution_count": 16,
   "id": "6c4731c9",
   "metadata": {},
   "outputs": [
    {
     "data": {
      "text/plain": [
       "New Delhi       5473\n",
       "Gurgaon         1118\n",
       "Noida           1080\n",
       "Faridabad        251\n",
       "Ghaziabad         25\n",
       "Ahmedabad         21\n",
       "Bhubaneshwar      21\n",
       "Amritsar          21\n",
       "Guwahati          21\n",
       "Lucknow           21\n",
       "Varanasi          20\n",
       "Pune              20\n",
       "Chennai           20\n",
       "Agra              20\n",
       "Allahabad         20\n",
       "Bangalore         20\n",
       "Mangalore         20\n",
       "Nashik            20\n",
       "Indore            20\n",
       "Puducherry        20\n",
       "Coimbatore        20\n",
       "Goa               20\n",
       "Surat             20\n",
       "Kolkata           20\n",
       "Kochi             20\n",
       "Ranchi            20\n",
       "Kanpur            20\n",
       "Mumbai            20\n",
       "Aurangabad        20\n",
       "Bhopal            20\n",
       "Mysore            20\n",
       "Dehradun          20\n",
       "Vizag             20\n",
       "Patna             20\n",
       "Vadodara          20\n",
       "Nagpur            20\n",
       "Jaipur            20\n",
       "Ludhiana          20\n",
       "Hyderabad         18\n",
       "Chandigarh        18\n",
       "Secunderabad       2\n",
       "Panchkula          1\n",
       "Mohali             1\n",
       "Name: City, dtype: int64"
      ]
     },
     "execution_count": 16,
     "metadata": {},
     "output_type": "execute_result"
    }
   ],
   "source": [
    "df['City'].value_counts()"
   ]
  },
  {
   "cell_type": "code",
   "execution_count": 17,
   "id": "a8cc7121",
   "metadata": {},
   "outputs": [],
   "source": [
    "mask=df['City'].isin(['New Delhi','Gurgaon','Noida'])"
   ]
  },
  {
   "cell_type": "code",
   "execution_count": 18,
   "id": "9a24f3af",
   "metadata": {},
   "outputs": [],
   "source": [
    "df=df[mask]"
   ]
  },
  {
   "cell_type": "code",
   "execution_count": 19,
   "id": "9a0c9709",
   "metadata": {},
   "outputs": [
    {
     "data": {
      "text/plain": [
       "(7671, 18)"
      ]
     },
     "execution_count": 19,
     "metadata": {},
     "output_type": "execute_result"
    }
   ],
   "source": [
    "df.shape"
   ]
  },
  {
   "cell_type": "code",
   "execution_count": null,
   "id": "7dc05300",
   "metadata": {},
   "outputs": [],
   "source": []
  },
  {
   "cell_type": "code",
   "execution_count": 20,
   "id": "46cc4a4f",
   "metadata": {},
   "outputs": [],
   "source": [
    "df.drop(columns=['Is delivering now'],inplace=True)"
   ]
  },
  {
   "cell_type": "code",
   "execution_count": 21,
   "id": "5a0c8203",
   "metadata": {},
   "outputs": [
    {
     "data": {
      "text/plain": [
       "(7671, 17)"
      ]
     },
     "execution_count": 21,
     "metadata": {},
     "output_type": "execute_result"
    }
   ],
   "source": [
    "df.shape"
   ]
  },
  {
   "cell_type": "code",
   "execution_count": 22,
   "id": "afd93416",
   "metadata": {},
   "outputs": [],
   "source": [
    "df.drop(columns=['Restaurant Name','Address','Locality','Locality Verbose','Rating color','Rating text'],inplace=True)"
   ]
  },
  {
   "cell_type": "code",
   "execution_count": 23,
   "id": "966c65d8",
   "metadata": {},
   "outputs": [
    {
     "data": {
      "text/plain": [
       "Index(['City', 'Longitude', 'Latitude', 'Cuisines', 'Average Cost for two',\n",
       "       'Has Table booking', 'Has Online delivery', 'Switch to order menu',\n",
       "       'Price range', 'Aggregate rating', 'Votes'],\n",
       "      dtype='object')"
      ]
     },
     "execution_count": 23,
     "metadata": {},
     "output_type": "execute_result"
    }
   ],
   "source": [
    "df.columns"
   ]
  },
  {
   "cell_type": "code",
   "execution_count": 24,
   "id": "9737f921",
   "metadata": {},
   "outputs": [
    {
     "data": {
      "text/plain": [
       "No     6640\n",
       "Yes    1031\n",
       "Name: Has Table booking, dtype: int64"
      ]
     },
     "execution_count": 24,
     "metadata": {},
     "output_type": "execute_result"
    }
   ],
   "source": [
    "df['Has Table booking'].value_counts()"
   ]
  },
  {
   "cell_type": "code",
   "execution_count": 25,
   "id": "1eef7182",
   "metadata": {},
   "outputs": [],
   "source": [
    "df['Has Table booking'].replace('Yes',1,inplace=True)"
   ]
  },
  {
   "cell_type": "code",
   "execution_count": 26,
   "id": "be16bf55",
   "metadata": {},
   "outputs": [],
   "source": [
    "df['Has Table booking'].replace('No',0,inplace=True)"
   ]
  },
  {
   "cell_type": "code",
   "execution_count": 27,
   "id": "1b271f23",
   "metadata": {},
   "outputs": [
    {
     "data": {
      "text/plain": [
       "0    6640\n",
       "1    1031\n",
       "Name: Has Table booking, dtype: int64"
      ]
     },
     "execution_count": 27,
     "metadata": {},
     "output_type": "execute_result"
    }
   ],
   "source": [
    "df['Has Table booking'].value_counts()"
   ]
  },
  {
   "cell_type": "code",
   "execution_count": 28,
   "id": "51134ef0",
   "metadata": {},
   "outputs": [
    {
     "data": {
      "text/plain": [
       "No     5393\n",
       "Yes    2278\n",
       "Name: Has Online delivery, dtype: int64"
      ]
     },
     "execution_count": 28,
     "metadata": {},
     "output_type": "execute_result"
    }
   ],
   "source": [
    "df['Has Online delivery'].value_counts()"
   ]
  },
  {
   "cell_type": "code",
   "execution_count": 29,
   "id": "5153c7f1",
   "metadata": {},
   "outputs": [],
   "source": [
    "df['Has Online delivery'].replace('Yes',1,inplace=True)\n",
    "df['Has Online delivery'].replace('No',0,inplace=True)"
   ]
  },
  {
   "cell_type": "code",
   "execution_count": 30,
   "id": "6365c42a",
   "metadata": {},
   "outputs": [
    {
     "data": {
      "text/plain": [
       "0    5393\n",
       "1    2278\n",
       "Name: Has Online delivery, dtype: int64"
      ]
     },
     "execution_count": 30,
     "metadata": {},
     "output_type": "execute_result"
    }
   ],
   "source": [
    "df['Has Online delivery'].value_counts()"
   ]
  },
  {
   "cell_type": "code",
   "execution_count": 31,
   "id": "d818540c",
   "metadata": {},
   "outputs": [
    {
     "data": {
      "text/html": [
       "<div>\n",
       "<style scoped>\n",
       "    .dataframe tbody tr th:only-of-type {\n",
       "        vertical-align: middle;\n",
       "    }\n",
       "\n",
       "    .dataframe tbody tr th {\n",
       "        vertical-align: top;\n",
       "    }\n",
       "\n",
       "    .dataframe thead th {\n",
       "        text-align: right;\n",
       "    }\n",
       "</style>\n",
       "<table border=\"1\" class=\"dataframe\">\n",
       "  <thead>\n",
       "    <tr style=\"text-align: right;\">\n",
       "      <th></th>\n",
       "      <th>Longitude</th>\n",
       "      <th>Latitude</th>\n",
       "      <th>Average Cost for two</th>\n",
       "      <th>Has Table booking</th>\n",
       "      <th>Has Online delivery</th>\n",
       "      <th>Price range</th>\n",
       "      <th>Aggregate rating</th>\n",
       "      <th>Votes</th>\n",
       "    </tr>\n",
       "  </thead>\n",
       "  <tbody>\n",
       "    <tr>\n",
       "      <th>Longitude</th>\n",
       "      <td>1.000000</td>\n",
       "      <td>0.997721</td>\n",
       "      <td>0.071854</td>\n",
       "      <td>0.059863</td>\n",
       "      <td>0.138230</td>\n",
       "      <td>0.082031</td>\n",
       "      <td>0.221801</td>\n",
       "      <td>0.071482</td>\n",
       "    </tr>\n",
       "    <tr>\n",
       "      <th>Latitude</th>\n",
       "      <td>0.997721</td>\n",
       "      <td>1.000000</td>\n",
       "      <td>0.070816</td>\n",
       "      <td>0.060228</td>\n",
       "      <td>0.137746</td>\n",
       "      <td>0.081059</td>\n",
       "      <td>0.221399</td>\n",
       "      <td>0.071196</td>\n",
       "    </tr>\n",
       "    <tr>\n",
       "      <th>Average Cost for two</th>\n",
       "      <td>0.071854</td>\n",
       "      <td>0.070816</td>\n",
       "      <td>1.000000</td>\n",
       "      <td>0.643845</td>\n",
       "      <td>0.072198</td>\n",
       "      <td>0.848425</td>\n",
       "      <td>0.329785</td>\n",
       "      <td>0.297741</td>\n",
       "    </tr>\n",
       "    <tr>\n",
       "      <th>Has Table booking</th>\n",
       "      <td>0.059863</td>\n",
       "      <td>0.060228</td>\n",
       "      <td>0.643845</td>\n",
       "      <td>1.000000</td>\n",
       "      <td>0.072631</td>\n",
       "      <td>0.661477</td>\n",
       "      <td>0.251972</td>\n",
       "      <td>0.224377</td>\n",
       "    </tr>\n",
       "    <tr>\n",
       "      <th>Has Online delivery</th>\n",
       "      <td>0.138230</td>\n",
       "      <td>0.137746</td>\n",
       "      <td>0.072198</td>\n",
       "      <td>0.072631</td>\n",
       "      <td>1.000000</td>\n",
       "      <td>0.184855</td>\n",
       "      <td>0.339658</td>\n",
       "      <td>0.121491</td>\n",
       "    </tr>\n",
       "    <tr>\n",
       "      <th>Price range</th>\n",
       "      <td>0.082031</td>\n",
       "      <td>0.081059</td>\n",
       "      <td>0.848425</td>\n",
       "      <td>0.661477</td>\n",
       "      <td>0.184855</td>\n",
       "      <td>1.000000</td>\n",
       "      <td>0.372624</td>\n",
       "      <td>0.325489</td>\n",
       "    </tr>\n",
       "    <tr>\n",
       "      <th>Aggregate rating</th>\n",
       "      <td>0.221801</td>\n",
       "      <td>0.221399</td>\n",
       "      <td>0.329785</td>\n",
       "      <td>0.251972</td>\n",
       "      <td>0.339658</td>\n",
       "      <td>0.372624</td>\n",
       "      <td>1.000000</td>\n",
       "      <td>0.291500</td>\n",
       "    </tr>\n",
       "    <tr>\n",
       "      <th>Votes</th>\n",
       "      <td>0.071482</td>\n",
       "      <td>0.071196</td>\n",
       "      <td>0.297741</td>\n",
       "      <td>0.224377</td>\n",
       "      <td>0.121491</td>\n",
       "      <td>0.325489</td>\n",
       "      <td>0.291500</td>\n",
       "      <td>1.000000</td>\n",
       "    </tr>\n",
       "  </tbody>\n",
       "</table>\n",
       "</div>"
      ],
      "text/plain": [
       "                      Longitude  Latitude  Average Cost for two  \\\n",
       "Longitude              1.000000  0.997721              0.071854   \n",
       "Latitude               0.997721  1.000000              0.070816   \n",
       "Average Cost for two   0.071854  0.070816              1.000000   \n",
       "Has Table booking      0.059863  0.060228              0.643845   \n",
       "Has Online delivery    0.138230  0.137746              0.072198   \n",
       "Price range            0.082031  0.081059              0.848425   \n",
       "Aggregate rating       0.221801  0.221399              0.329785   \n",
       "Votes                  0.071482  0.071196              0.297741   \n",
       "\n",
       "                      Has Table booking  Has Online delivery  Price range  \\\n",
       "Longitude                      0.059863             0.138230     0.082031   \n",
       "Latitude                       0.060228             0.137746     0.081059   \n",
       "Average Cost for two           0.643845             0.072198     0.848425   \n",
       "Has Table booking              1.000000             0.072631     0.661477   \n",
       "Has Online delivery            0.072631             1.000000     0.184855   \n",
       "Price range                    0.661477             0.184855     1.000000   \n",
       "Aggregate rating               0.251972             0.339658     0.372624   \n",
       "Votes                          0.224377             0.121491     0.325489   \n",
       "\n",
       "                      Aggregate rating     Votes  \n",
       "Longitude                     0.221801  0.071482  \n",
       "Latitude                      0.221399  0.071196  \n",
       "Average Cost for two          0.329785  0.297741  \n",
       "Has Table booking             0.251972  0.224377  \n",
       "Has Online delivery           0.339658  0.121491  \n",
       "Price range                   0.372624  0.325489  \n",
       "Aggregate rating              1.000000  0.291500  \n",
       "Votes                         0.291500  1.000000  "
      ]
     },
     "execution_count": 31,
     "metadata": {},
     "output_type": "execute_result"
    }
   ],
   "source": [
    "df.corr()"
   ]
  },
  {
   "cell_type": "code",
   "execution_count": 32,
   "id": "93603380",
   "metadata": {},
   "outputs": [
    {
     "data": {
      "text/plain": [
       "Index(['City', 'Longitude', 'Latitude', 'Cuisines', 'Average Cost for two',\n",
       "       'Has Table booking', 'Has Online delivery', 'Switch to order menu',\n",
       "       'Price range', 'Aggregate rating', 'Votes'],\n",
       "      dtype='object')"
      ]
     },
     "execution_count": 32,
     "metadata": {},
     "output_type": "execute_result"
    }
   ],
   "source": [
    "df.columns\n"
   ]
  },
  {
   "cell_type": "code",
   "execution_count": 33,
   "id": "1d725e97",
   "metadata": {},
   "outputs": [],
   "source": [
    "df.drop(columns=['Longitude','Latitude','Has Online delivery','Price range'],inplace=True)"
   ]
  },
  {
   "cell_type": "code",
   "execution_count": 34,
   "id": "c1839174",
   "metadata": {},
   "outputs": [
    {
     "data": {
      "text/plain": [
       "Index(['City', 'Cuisines', 'Average Cost for two', 'Has Table booking',\n",
       "       'Switch to order menu', 'Aggregate rating', 'Votes'],\n",
       "      dtype='object')"
      ]
     },
     "execution_count": 34,
     "metadata": {},
     "output_type": "execute_result"
    }
   ],
   "source": [
    "df.columns"
   ]
  },
  {
   "cell_type": "code",
   "execution_count": 35,
   "id": "3814e6cd",
   "metadata": {},
   "outputs": [
    {
     "data": {
      "text/html": [
       "<div>\n",
       "<style scoped>\n",
       "    .dataframe tbody tr th:only-of-type {\n",
       "        vertical-align: middle;\n",
       "    }\n",
       "\n",
       "    .dataframe tbody tr th {\n",
       "        vertical-align: top;\n",
       "    }\n",
       "\n",
       "    .dataframe thead th {\n",
       "        text-align: right;\n",
       "    }\n",
       "</style>\n",
       "<table border=\"1\" class=\"dataframe\">\n",
       "  <thead>\n",
       "    <tr style=\"text-align: right;\">\n",
       "      <th></th>\n",
       "      <th>Average Cost for two</th>\n",
       "      <th>Has Table booking</th>\n",
       "      <th>Aggregate rating</th>\n",
       "      <th>Votes</th>\n",
       "    </tr>\n",
       "  </thead>\n",
       "  <tbody>\n",
       "    <tr>\n",
       "      <th>Average Cost for two</th>\n",
       "      <td>1.000000</td>\n",
       "      <td>0.643845</td>\n",
       "      <td>0.329785</td>\n",
       "      <td>0.297741</td>\n",
       "    </tr>\n",
       "    <tr>\n",
       "      <th>Has Table booking</th>\n",
       "      <td>0.643845</td>\n",
       "      <td>1.000000</td>\n",
       "      <td>0.251972</td>\n",
       "      <td>0.224377</td>\n",
       "    </tr>\n",
       "    <tr>\n",
       "      <th>Aggregate rating</th>\n",
       "      <td>0.329785</td>\n",
       "      <td>0.251972</td>\n",
       "      <td>1.000000</td>\n",
       "      <td>0.291500</td>\n",
       "    </tr>\n",
       "    <tr>\n",
       "      <th>Votes</th>\n",
       "      <td>0.297741</td>\n",
       "      <td>0.224377</td>\n",
       "      <td>0.291500</td>\n",
       "      <td>1.000000</td>\n",
       "    </tr>\n",
       "  </tbody>\n",
       "</table>\n",
       "</div>"
      ],
      "text/plain": [
       "                      Average Cost for two  Has Table booking  \\\n",
       "Average Cost for two              1.000000           0.643845   \n",
       "Has Table booking                 0.643845           1.000000   \n",
       "Aggregate rating                  0.329785           0.251972   \n",
       "Votes                             0.297741           0.224377   \n",
       "\n",
       "                      Aggregate rating     Votes  \n",
       "Average Cost for two          0.329785  0.297741  \n",
       "Has Table booking             0.251972  0.224377  \n",
       "Aggregate rating              1.000000  0.291500  \n",
       "Votes                         0.291500  1.000000  "
      ]
     },
     "execution_count": 35,
     "metadata": {},
     "output_type": "execute_result"
    }
   ],
   "source": [
    "df.corr()"
   ]
  },
  {
   "cell_type": "code",
   "execution_count": 36,
   "id": "5739317c",
   "metadata": {},
   "outputs": [
    {
     "data": {
      "text/plain": [
       "1"
      ]
     },
     "execution_count": 36,
     "metadata": {},
     "output_type": "execute_result"
    }
   ],
   "source": [
    "df['Switch to order menu'].nunique()"
   ]
  },
  {
   "cell_type": "code",
   "execution_count": 37,
   "id": "f7c0d60f",
   "metadata": {},
   "outputs": [
    {
     "data": {
      "text/plain": [
       "No    7671\n",
       "Name: Switch to order menu, dtype: int64"
      ]
     },
     "execution_count": 37,
     "metadata": {},
     "output_type": "execute_result"
    }
   ],
   "source": [
    "df['Switch to order menu'].value_counts()"
   ]
  },
  {
   "cell_type": "code",
   "execution_count": 38,
   "id": "fd8bced8",
   "metadata": {},
   "outputs": [],
   "source": [
    "df.drop(columns=['Switch to order menu'],inplace=True)"
   ]
  },
  {
   "cell_type": "code",
   "execution_count": 39,
   "id": "0239b348",
   "metadata": {},
   "outputs": [
    {
     "data": {
      "text/plain": [
       "(7671, 6)"
      ]
     },
     "execution_count": 39,
     "metadata": {},
     "output_type": "execute_result"
    }
   ],
   "source": [
    "df.shape"
   ]
  },
  {
   "cell_type": "code",
   "execution_count": 40,
   "id": "6c2e0941",
   "metadata": {},
   "outputs": [
    {
     "data": {
      "text/html": [
       "<div>\n",
       "<style scoped>\n",
       "    .dataframe tbody tr th:only-of-type {\n",
       "        vertical-align: middle;\n",
       "    }\n",
       "\n",
       "    .dataframe tbody tr th {\n",
       "        vertical-align: top;\n",
       "    }\n",
       "\n",
       "    .dataframe thead th {\n",
       "        text-align: right;\n",
       "    }\n",
       "</style>\n",
       "<table border=\"1\" class=\"dataframe\">\n",
       "  <thead>\n",
       "    <tr style=\"text-align: right;\">\n",
       "      <th></th>\n",
       "      <th>City</th>\n",
       "      <th>Cuisines</th>\n",
       "      <th>Average Cost for two</th>\n",
       "      <th>Has Table booking</th>\n",
       "      <th>Aggregate rating</th>\n",
       "      <th>Votes</th>\n",
       "    </tr>\n",
       "  </thead>\n",
       "  <tbody>\n",
       "    <tr>\n",
       "      <th>8005</th>\n",
       "      <td>New Delhi</td>\n",
       "      <td>North Indian, Mughlai</td>\n",
       "      <td>450</td>\n",
       "      <td>0</td>\n",
       "      <td>3.2</td>\n",
       "      <td>30</td>\n",
       "    </tr>\n",
       "    <tr>\n",
       "      <th>2080</th>\n",
       "      <td>Gurgaon</td>\n",
       "      <td>Biryani</td>\n",
       "      <td>500</td>\n",
       "      <td>0</td>\n",
       "      <td>3.6</td>\n",
       "      <td>35</td>\n",
       "    </tr>\n",
       "    <tr>\n",
       "      <th>4812</th>\n",
       "      <td>New Delhi</td>\n",
       "      <td>Cafe, French</td>\n",
       "      <td>1500</td>\n",
       "      <td>1</td>\n",
       "      <td>0.0</td>\n",
       "      <td>1</td>\n",
       "    </tr>\n",
       "    <tr>\n",
       "      <th>2139</th>\n",
       "      <td>Gurgaon</td>\n",
       "      <td>Fast Food, North Indian</td>\n",
       "      <td>250</td>\n",
       "      <td>0</td>\n",
       "      <td>0.0</td>\n",
       "      <td>3</td>\n",
       "    </tr>\n",
       "    <tr>\n",
       "      <th>1298</th>\n",
       "      <td>Gurgaon</td>\n",
       "      <td>Beverages, Juices</td>\n",
       "      <td>150</td>\n",
       "      <td>0</td>\n",
       "      <td>3.1</td>\n",
       "      <td>9</td>\n",
       "    </tr>\n",
       "  </tbody>\n",
       "</table>\n",
       "</div>"
      ],
      "text/plain": [
       "           City                 Cuisines  Average Cost for two  \\\n",
       "8005  New Delhi    North Indian, Mughlai                   450   \n",
       "2080    Gurgaon                  Biryani                   500   \n",
       "4812  New Delhi             Cafe, French                  1500   \n",
       "2139    Gurgaon  Fast Food, North Indian                   250   \n",
       "1298    Gurgaon        Beverages, Juices                   150   \n",
       "\n",
       "      Has Table booking  Aggregate rating  Votes  \n",
       "8005                  0               3.2     30  \n",
       "2080                  0               3.6     35  \n",
       "4812                  1               0.0      1  \n",
       "2139                  0               0.0      3  \n",
       "1298                  0               3.1      9  "
      ]
     },
     "execution_count": 40,
     "metadata": {},
     "output_type": "execute_result"
    }
   ],
   "source": [
    "df.sample(5)"
   ]
  },
  {
   "cell_type": "code",
   "execution_count": 41,
   "id": "32573e2d",
   "metadata": {},
   "outputs": [],
   "source": [
    "cuisine=df.groupby('Cuisines')['Average Cost for two'].mean().reset_index()"
   ]
  },
  {
   "cell_type": "code",
   "execution_count": null,
   "id": "9a041f3e",
   "metadata": {},
   "outputs": [],
   "source": []
  },
  {
   "cell_type": "code",
   "execution_count": 42,
   "id": "edbfd3e2",
   "metadata": {},
   "outputs": [],
   "source": [
    "new_data=df.merge(cuisine,on='Cuisines')"
   ]
  },
  {
   "cell_type": "code",
   "execution_count": 43,
   "id": "29fc45a7",
   "metadata": {},
   "outputs": [],
   "source": [
    "new_data.rename(columns={'Average Cost for two_x':'cost','Average Cost for two_y':'Cuisine'},inplace=True)"
   ]
  },
  {
   "cell_type": "code",
   "execution_count": 44,
   "id": "0dfe6978",
   "metadata": {},
   "outputs": [],
   "source": [
    "new_data.drop(columns=['Cuisines'],inplace=True)"
   ]
  },
  {
   "cell_type": "code",
   "execution_count": 45,
   "id": "c09603f3",
   "metadata": {},
   "outputs": [],
   "source": [
    "new_data=new_data[['City','Has Table booking','Aggregate rating','Votes','Cuisine','cost']]"
   ]
  },
  {
   "cell_type": "code",
   "execution_count": 46,
   "id": "424ec0dc",
   "metadata": {},
   "outputs": [
    {
     "data": {
      "text/html": [
       "<div>\n",
       "<style scoped>\n",
       "    .dataframe tbody tr th:only-of-type {\n",
       "        vertical-align: middle;\n",
       "    }\n",
       "\n",
       "    .dataframe tbody tr th {\n",
       "        vertical-align: top;\n",
       "    }\n",
       "\n",
       "    .dataframe thead th {\n",
       "        text-align: right;\n",
       "    }\n",
       "</style>\n",
       "<table border=\"1\" class=\"dataframe\">\n",
       "  <thead>\n",
       "    <tr style=\"text-align: right;\">\n",
       "      <th></th>\n",
       "      <th>City</th>\n",
       "      <th>Has Table booking</th>\n",
       "      <th>Aggregate rating</th>\n",
       "      <th>Votes</th>\n",
       "      <th>Cuisine</th>\n",
       "      <th>cost</th>\n",
       "    </tr>\n",
       "  </thead>\n",
       "  <tbody>\n",
       "    <tr>\n",
       "      <th>0</th>\n",
       "      <td>Gurgaon</td>\n",
       "      <td>0</td>\n",
       "      <td>3.4</td>\n",
       "      <td>16</td>\n",
       "      <td>416.666667</td>\n",
       "      <td>350</td>\n",
       "    </tr>\n",
       "    <tr>\n",
       "      <th>1</th>\n",
       "      <td>New Delhi</td>\n",
       "      <td>0</td>\n",
       "      <td>0.0</td>\n",
       "      <td>0</td>\n",
       "      <td>416.666667</td>\n",
       "      <td>200</td>\n",
       "    </tr>\n",
       "    <tr>\n",
       "      <th>2</th>\n",
       "      <td>New Delhi</td>\n",
       "      <td>0</td>\n",
       "      <td>4.1</td>\n",
       "      <td>92</td>\n",
       "      <td>416.666667</td>\n",
       "      <td>700</td>\n",
       "    </tr>\n",
       "    <tr>\n",
       "      <th>3</th>\n",
       "      <td>Gurgaon</td>\n",
       "      <td>1</td>\n",
       "      <td>2.7</td>\n",
       "      <td>80</td>\n",
       "      <td>755.511551</td>\n",
       "      <td>800</td>\n",
       "    </tr>\n",
       "    <tr>\n",
       "      <th>4</th>\n",
       "      <td>Gurgaon</td>\n",
       "      <td>1</td>\n",
       "      <td>4.3</td>\n",
       "      <td>1887</td>\n",
       "      <td>755.511551</td>\n",
       "      <td>2000</td>\n",
       "    </tr>\n",
       "    <tr>\n",
       "      <th>...</th>\n",
       "      <td>...</td>\n",
       "      <td>...</td>\n",
       "      <td>...</td>\n",
       "      <td>...</td>\n",
       "      <td>...</td>\n",
       "      <td>...</td>\n",
       "    </tr>\n",
       "    <tr>\n",
       "      <th>7666</th>\n",
       "      <td>Noida</td>\n",
       "      <td>1</td>\n",
       "      <td>2.2</td>\n",
       "      <td>116</td>\n",
       "      <td>2500.000000</td>\n",
       "      <td>2500</td>\n",
       "    </tr>\n",
       "    <tr>\n",
       "      <th>7667</th>\n",
       "      <td>Noida</td>\n",
       "      <td>0</td>\n",
       "      <td>3.0</td>\n",
       "      <td>10</td>\n",
       "      <td>200.000000</td>\n",
       "      <td>200</td>\n",
       "    </tr>\n",
       "    <tr>\n",
       "      <th>7668</th>\n",
       "      <td>Noida</td>\n",
       "      <td>0</td>\n",
       "      <td>3.5</td>\n",
       "      <td>105</td>\n",
       "      <td>450.000000</td>\n",
       "      <td>450</td>\n",
       "    </tr>\n",
       "    <tr>\n",
       "      <th>7669</th>\n",
       "      <td>Noida</td>\n",
       "      <td>1</td>\n",
       "      <td>0.0</td>\n",
       "      <td>0</td>\n",
       "      <td>1000.000000</td>\n",
       "      <td>1000</td>\n",
       "    </tr>\n",
       "    <tr>\n",
       "      <th>7670</th>\n",
       "      <td>Noida</td>\n",
       "      <td>0</td>\n",
       "      <td>2.0</td>\n",
       "      <td>161</td>\n",
       "      <td>450.000000</td>\n",
       "      <td>450</td>\n",
       "    </tr>\n",
       "  </tbody>\n",
       "</table>\n",
       "<p>7671 rows × 6 columns</p>\n",
       "</div>"
      ],
      "text/plain": [
       "           City  Has Table booking  Aggregate rating  Votes      Cuisine  cost\n",
       "0       Gurgaon                  0               3.4     16   416.666667   350\n",
       "1     New Delhi                  0               0.0      0   416.666667   200\n",
       "2     New Delhi                  0               4.1     92   416.666667   700\n",
       "3       Gurgaon                  1               2.7     80   755.511551   800\n",
       "4       Gurgaon                  1               4.3   1887   755.511551  2000\n",
       "...         ...                ...               ...    ...          ...   ...\n",
       "7666      Noida                  1               2.2    116  2500.000000  2500\n",
       "7667      Noida                  0               3.0     10   200.000000   200\n",
       "7668      Noida                  0               3.5    105   450.000000   450\n",
       "7669      Noida                  1               0.0      0  1000.000000  1000\n",
       "7670      Noida                  0               2.0    161   450.000000   450\n",
       "\n",
       "[7671 rows x 6 columns]"
      ]
     },
     "execution_count": 46,
     "metadata": {},
     "output_type": "execute_result"
    }
   ],
   "source": [
    "new_data"
   ]
  },
  {
   "cell_type": "code",
   "execution_count": 47,
   "id": "9251155c",
   "metadata": {},
   "outputs": [],
   "source": [
    "#new_data.drop(columns=['Votes','Aggregate rating'],inplace=True)"
   ]
  },
  {
   "cell_type": "code",
   "execution_count": 48,
   "id": "80506c98",
   "metadata": {},
   "outputs": [
    {
     "data": {
      "text/html": [
       "<div>\n",
       "<style scoped>\n",
       "    .dataframe tbody tr th:only-of-type {\n",
       "        vertical-align: middle;\n",
       "    }\n",
       "\n",
       "    .dataframe tbody tr th {\n",
       "        vertical-align: top;\n",
       "    }\n",
       "\n",
       "    .dataframe thead th {\n",
       "        text-align: right;\n",
       "    }\n",
       "</style>\n",
       "<table border=\"1\" class=\"dataframe\">\n",
       "  <thead>\n",
       "    <tr style=\"text-align: right;\">\n",
       "      <th></th>\n",
       "      <th>City</th>\n",
       "      <th>Has Table booking</th>\n",
       "      <th>Aggregate rating</th>\n",
       "      <th>Votes</th>\n",
       "      <th>Cuisine</th>\n",
       "      <th>cost</th>\n",
       "    </tr>\n",
       "  </thead>\n",
       "  <tbody>\n",
       "    <tr>\n",
       "      <th>0</th>\n",
       "      <td>Gurgaon</td>\n",
       "      <td>0</td>\n",
       "      <td>3.4</td>\n",
       "      <td>16</td>\n",
       "      <td>416.666667</td>\n",
       "      <td>350</td>\n",
       "    </tr>\n",
       "    <tr>\n",
       "      <th>1</th>\n",
       "      <td>New Delhi</td>\n",
       "      <td>0</td>\n",
       "      <td>0.0</td>\n",
       "      <td>0</td>\n",
       "      <td>416.666667</td>\n",
       "      <td>200</td>\n",
       "    </tr>\n",
       "    <tr>\n",
       "      <th>2</th>\n",
       "      <td>New Delhi</td>\n",
       "      <td>0</td>\n",
       "      <td>4.1</td>\n",
       "      <td>92</td>\n",
       "      <td>416.666667</td>\n",
       "      <td>700</td>\n",
       "    </tr>\n",
       "    <tr>\n",
       "      <th>3</th>\n",
       "      <td>Gurgaon</td>\n",
       "      <td>1</td>\n",
       "      <td>2.7</td>\n",
       "      <td>80</td>\n",
       "      <td>755.511551</td>\n",
       "      <td>800</td>\n",
       "    </tr>\n",
       "    <tr>\n",
       "      <th>4</th>\n",
       "      <td>Gurgaon</td>\n",
       "      <td>1</td>\n",
       "      <td>4.3</td>\n",
       "      <td>1887</td>\n",
       "      <td>755.511551</td>\n",
       "      <td>2000</td>\n",
       "    </tr>\n",
       "    <tr>\n",
       "      <th>...</th>\n",
       "      <td>...</td>\n",
       "      <td>...</td>\n",
       "      <td>...</td>\n",
       "      <td>...</td>\n",
       "      <td>...</td>\n",
       "      <td>...</td>\n",
       "    </tr>\n",
       "    <tr>\n",
       "      <th>7666</th>\n",
       "      <td>Noida</td>\n",
       "      <td>1</td>\n",
       "      <td>2.2</td>\n",
       "      <td>116</td>\n",
       "      <td>2500.000000</td>\n",
       "      <td>2500</td>\n",
       "    </tr>\n",
       "    <tr>\n",
       "      <th>7667</th>\n",
       "      <td>Noida</td>\n",
       "      <td>0</td>\n",
       "      <td>3.0</td>\n",
       "      <td>10</td>\n",
       "      <td>200.000000</td>\n",
       "      <td>200</td>\n",
       "    </tr>\n",
       "    <tr>\n",
       "      <th>7668</th>\n",
       "      <td>Noida</td>\n",
       "      <td>0</td>\n",
       "      <td>3.5</td>\n",
       "      <td>105</td>\n",
       "      <td>450.000000</td>\n",
       "      <td>450</td>\n",
       "    </tr>\n",
       "    <tr>\n",
       "      <th>7669</th>\n",
       "      <td>Noida</td>\n",
       "      <td>1</td>\n",
       "      <td>0.0</td>\n",
       "      <td>0</td>\n",
       "      <td>1000.000000</td>\n",
       "      <td>1000</td>\n",
       "    </tr>\n",
       "    <tr>\n",
       "      <th>7670</th>\n",
       "      <td>Noida</td>\n",
       "      <td>0</td>\n",
       "      <td>2.0</td>\n",
       "      <td>161</td>\n",
       "      <td>450.000000</td>\n",
       "      <td>450</td>\n",
       "    </tr>\n",
       "  </tbody>\n",
       "</table>\n",
       "<p>7671 rows × 6 columns</p>\n",
       "</div>"
      ],
      "text/plain": [
       "           City  Has Table booking  Aggregate rating  Votes      Cuisine  cost\n",
       "0       Gurgaon                  0               3.4     16   416.666667   350\n",
       "1     New Delhi                  0               0.0      0   416.666667   200\n",
       "2     New Delhi                  0               4.1     92   416.666667   700\n",
       "3       Gurgaon                  1               2.7     80   755.511551   800\n",
       "4       Gurgaon                  1               4.3   1887   755.511551  2000\n",
       "...         ...                ...               ...    ...          ...   ...\n",
       "7666      Noida                  1               2.2    116  2500.000000  2500\n",
       "7667      Noida                  0               3.0     10   200.000000   200\n",
       "7668      Noida                  0               3.5    105   450.000000   450\n",
       "7669      Noida                  1               0.0      0  1000.000000  1000\n",
       "7670      Noida                  0               2.0    161   450.000000   450\n",
       "\n",
       "[7671 rows x 6 columns]"
      ]
     },
     "execution_count": 48,
     "metadata": {},
     "output_type": "execute_result"
    }
   ],
   "source": [
    "new_data"
   ]
  },
  {
   "cell_type": "code",
   "execution_count": 49,
   "id": "848197c2",
   "metadata": {},
   "outputs": [],
   "source": [
    "X= new_data.iloc[:,:-1].values"
   ]
  },
  {
   "cell_type": "code",
   "execution_count": 50,
   "id": "f8545b9e",
   "metadata": {},
   "outputs": [],
   "source": [
    "Y= new_data.iloc[:,-1].values"
   ]
  },
  {
   "cell_type": "code",
   "execution_count": 51,
   "id": "e8812994",
   "metadata": {},
   "outputs": [
    {
     "data": {
      "text/plain": [
       "array([['Gurgaon', 0, 3.4, 16, 416.6666666666667],\n",
       "       ['New Delhi', 0, 0.0, 0, 416.6666666666667],\n",
       "       ['New Delhi', 0, 4.1, 92, 416.6666666666667],\n",
       "       ...,\n",
       "       ['Noida', 0, 3.5, 105, 450.0],\n",
       "       ['Noida', 1, 0.0, 0, 1000.0],\n",
       "       ['Noida', 0, 2.0, 161, 450.0]], dtype=object)"
      ]
     },
     "execution_count": 51,
     "metadata": {},
     "output_type": "execute_result"
    }
   ],
   "source": [
    "X"
   ]
  },
  {
   "cell_type": "code",
   "execution_count": 52,
   "id": "17022235",
   "metadata": {},
   "outputs": [
    {
     "data": {
      "text/plain": [
       "array([ 350,  200,  700, ...,  450, 1000,  450])"
      ]
     },
     "execution_count": 52,
     "metadata": {},
     "output_type": "execute_result"
    }
   ],
   "source": [
    "Y"
   ]
  },
  {
   "cell_type": "code",
   "execution_count": 53,
   "id": "b4ae6b95",
   "metadata": {},
   "outputs": [],
   "source": [
    "from sklearn.preprocessing import LabelEncoder\n",
    "encoder= LabelEncoder()"
   ]
  },
  {
   "cell_type": "code",
   "execution_count": 54,
   "id": "cb620e11",
   "metadata": {},
   "outputs": [],
   "source": [
    "X[:, 0]=encoder.fit_transform(X[:, 0])"
   ]
  },
  {
   "cell_type": "code",
   "execution_count": 55,
   "id": "8688e405",
   "metadata": {},
   "outputs": [
    {
     "data": {
      "text/plain": [
       "array([[0, 0, 3.4, 16, 416.6666666666667],\n",
       "       [1, 0, 0.0, 0, 416.6666666666667],\n",
       "       [1, 0, 4.1, 92, 416.6666666666667],\n",
       "       ...,\n",
       "       [2, 0, 3.5, 105, 450.0],\n",
       "       [2, 1, 0.0, 0, 1000.0],\n",
       "       [2, 0, 2.0, 161, 450.0]], dtype=object)"
      ]
     },
     "execution_count": 55,
     "metadata": {},
     "output_type": "execute_result"
    }
   ],
   "source": [
    "X\n"
   ]
  },
  {
   "cell_type": "code",
   "execution_count": 56,
   "id": "ac506136",
   "metadata": {},
   "outputs": [
    {
     "name": "stderr",
     "output_type": "stream",
     "text": [
      "<ipython-input-56-8a00e980ec51>:4: DeprecationWarning: `np.str` is a deprecated alias for the builtin `str`. To silence this warning, use `str` by itself. Doing this will not modify any behavior and is safe. If you specifically wanted the numpy scalar type, use `np.str_` here.\n",
      "Deprecated in NumPy 1.20; for more details and guidance: https://numpy.org/devdocs/release/1.20.0-notes.html#deprecations\n",
      "  X=np.array(columnTransformer.fit_transform(X),dtype=np.str)\n"
     ]
    }
   ],
   "source": [
    "from sklearn.preprocessing import OneHotEncoder\n",
    "from sklearn.compose import ColumnTransformer\n",
    "columnTransformer = ColumnTransformer([('encoder', OneHotEncoder(), [0])],     remainder='passthrough')\n",
    "X=np.array(columnTransformer.fit_transform(X),dtype=np.str)\n"
   ]
  },
  {
   "cell_type": "code",
   "execution_count": 57,
   "id": "a8d76da8",
   "metadata": {},
   "outputs": [
    {
     "data": {
      "text/plain": [
       "(7671, 7)"
      ]
     },
     "execution_count": 57,
     "metadata": {},
     "output_type": "execute_result"
    }
   ],
   "source": [
    "X.shape"
   ]
  },
  {
   "cell_type": "code",
   "execution_count": 58,
   "id": "388a207b",
   "metadata": {},
   "outputs": [],
   "source": [
    "from sklearn.model_selection import train_test_split"
   ]
  },
  {
   "cell_type": "code",
   "execution_count": 59,
   "id": "98061242",
   "metadata": {},
   "outputs": [],
   "source": [
    "X_train, X_test, Y_train, Y_test = train_test_split(X, Y, test_size =\n",
    " 0.20, random_state = 9)"
   ]
  },
  {
   "cell_type": "code",
   "execution_count": 60,
   "id": "a006734b",
   "metadata": {},
   "outputs": [
    {
     "data": {
      "text/plain": [
       "(6136, 7)"
      ]
     },
     "execution_count": 60,
     "metadata": {},
     "output_type": "execute_result"
    }
   ],
   "source": [
    "\n",
    "X_train.shape"
   ]
  },
  {
   "cell_type": "code",
   "execution_count": 61,
   "id": "a15e29cd",
   "metadata": {},
   "outputs": [],
   "source": [
    "from sklearn.linear_model import LinearRegression\n",
    "regressor = LinearRegression()"
   ]
  },
  {
   "cell_type": "code",
   "execution_count": 62,
   "id": "8ae7f4ca",
   "metadata": {},
   "outputs": [
    {
     "name": "stderr",
     "output_type": "stream",
     "text": [
      "/home/nagark312/.local/lib/python3.8/site-packages/sklearn/utils/validation.py:63: FutureWarning: Arrays of bytes/strings is being converted to decimal numbers if dtype='numeric'. This behavior is deprecated in 0.24 and will be removed in 1.1 (renaming of 0.26). Please convert your data to numeric values explicitly instead.\n",
      "  return f(*args, **kwargs)\n"
     ]
    },
    {
     "data": {
      "text/plain": [
       "LinearRegression()"
      ]
     },
     "execution_count": 62,
     "metadata": {},
     "output_type": "execute_result"
    }
   ],
   "source": [
    "regressor.fit(X_train,Y_train)    "
   ]
  },
  {
   "cell_type": "code",
   "execution_count": 63,
   "id": "a7848976",
   "metadata": {},
   "outputs": [
    {
     "name": "stderr",
     "output_type": "stream",
     "text": [
      "/home/nagark312/.local/lib/python3.8/site-packages/sklearn/utils/validation.py:63: FutureWarning: Arrays of bytes/strings is being converted to decimal numbers if dtype='numeric'. This behavior is deprecated in 0.24 and will be removed in 1.1 (renaming of 0.26). Please convert your data to numeric values explicitly instead.\n",
      "  return f(*args, **kwargs)\n"
     ]
    }
   ],
   "source": [
    "Y_pread=regressor.predict(X_test)"
   ]
  },
  {
   "cell_type": "code",
   "execution_count": 64,
   "id": "39c67209",
   "metadata": {},
   "outputs": [],
   "source": [
    "from sklearn.metrics import r2_score"
   ]
  },
  {
   "cell_type": "code",
   "execution_count": 65,
   "id": "acecca23",
   "metadata": {},
   "outputs": [
    {
     "data": {
      "text/plain": [
       "0.7189272138600029"
      ]
     },
     "execution_count": 65,
     "metadata": {},
     "output_type": "execute_result"
    }
   ],
   "source": [
    "r2_score(Y_test,Y_pread)"
   ]
  },
  {
   "cell_type": "code",
   "execution_count": null,
   "id": "ce3b273c",
   "metadata": {},
   "outputs": [],
   "source": []
  }
 ],
 "metadata": {
  "kernelspec": {
   "display_name": "Python 3 (ipykernel)",
   "language": "python",
   "name": "python3"
  },
  "language_info": {
   "codemirror_mode": {
    "name": "ipython",
    "version": 3
   },
   "file_extension": ".py",
   "mimetype": "text/x-python",
   "name": "python",
   "nbconvert_exporter": "python",
   "pygments_lexer": "ipython3",
   "version": "3.8.10"
  }
 },
 "nbformat": 4,
 "nbformat_minor": 5
}
